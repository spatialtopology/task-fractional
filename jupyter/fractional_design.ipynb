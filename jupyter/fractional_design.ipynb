{
 "cells": [
  {
   "cell_type": "markdown",
   "metadata": {},
   "source": [
    "## overview\n",
    "This notebook will keep \n",
    "* timing parameters\n",
    "* meeting notes\n",
    "* simulations or other relevant information related to the task design"
   ]
  },
  {
   "cell_type": "markdown",
   "metadata": {
    "ExecuteTime": {
     "end_time": "2019-08-30T11:02:19.057631Z",
     "start_time": "2019-08-30T11:02:19.051808Z"
    }
   },
   "source": [
    "# 1. Posner"
   ]
  },
  {
   "cell_type": "markdown",
   "metadata": {
    "ExecuteTime": {
     "end_time": "2019-08-30T11:03:22.076386Z",
     "start_time": "2019-08-30T11:03:22.066993Z"
    }
   },
   "source": [
    "* Fixation (jitter) - using the ABCD optimization\n",
    "* cue duration (200 ms) - for a cue facilitary effect. see figure below\n",
    "* target duration - TBA"
   ]
  },
  {
   "cell_type": "markdown",
   "metadata": {
    "ExecuteTime": {
     "end_time": "2019-08-30T11:09:07.386182Z",
     "start_time": "2019-08-30T11:09:07.246307Z"
    }
   },
   "source": [
    "<img src=\"fractional_01attention.png\" alt=\"Drawing\" style=\"width: 500px;\"/>"
   ]
  },
  {
   "cell_type": "markdown",
   "metadata": {
    "ExecuteTime": {
     "end_time": "2019-08-30T11:06:54.002515Z",
     "start_time": "2019-08-30T11:06:53.848962Z"
    }
   },
   "source": [
    "\n",
    "<img src=\"posner_cohen_1984_soa.jpg\" alt=\"Drawing\" style=\"width: 500px;\"/>"
   ]
  },
  {
   "cell_type": "markdown",
   "metadata": {},
   "source": [
    "## 1.1 Posner random walk generator for invalid valid cues"
   ]
  },
  {
   "cell_type": "code",
   "execution_count": 6,
   "metadata": {},
   "outputs": [
    {
     "data": {
      "image/png": "[encoded data removed]",
      "text/plain": [
       "<Figure size 432x288 with 1 Axes>"
      ]
     },
     "metadata": {
      "needs_background": "light"
     },
     "output_type": "display_data"
    }
   ],
   "source": [
    "# Python code for 1-D random walk.  https://www.geeksforgeeks.org/random-walk-implementation-python/\n",
    "import random \n",
    "import numpy as np \n",
    "import matplotlib.pyplot as plt \n",
    "  \n",
    "# Probability to move up or down \n",
    "prob = [0.05, 0.95]   \n",
    "  \n",
    "# statically defining the starting position \n",
    "start = 0 \n",
    "positions = [start] \n",
    "  \n",
    "# creating the random points \n",
    "rr = np.random.random(1000) \n",
    "downp = rr < prob[0] \n",
    "upp = rr > prob[1] \n",
    "  \n",
    "  \n",
    "for idownp, iupp in zip(downp, upp): \n",
    "    down = idownp and positions[-1] > 0\n",
    "    up = iupp and positions[-1] < 1\n",
    "    positions.append(positions[-1] - down + up) \n",
    "  \n",
    "# plotting down the graph of the random walk in 1D \n",
    "plt.plot(positions) \n",
    "plt.show() "
   ]
  },
  {
   "cell_type": "markdown",
   "metadata": {},
   "source": [
    "# 2. Memory"
   ]
  },
  {
   "cell_type": "markdown",
   "metadata": {
    "collapsed": true
   },
   "source": [
    "* Training\n",
    "To Do \n",
    "- [ ] Cue them old new - like stunt\n",
    "- [ ] Too slow instead of question mark and self paced\n",
    "- [ ] Check Delay in between study and test \n",
    "- [ ] incentivize "
   ]
  },
  {
   "cell_type": "markdown",
   "metadata": {},
   "source": [
    "<img src=\"fractional_02memory.png\" alt=\"Drawing\" style=\"width: 500px;\"/>"
   ]
  },
  {
   "cell_type": "markdown",
   "metadata": {
    "ExecuteTime": {
     "end_time": "2019-08-30T11:02:38.028613Z",
     "start_time": "2019-08-30T11:02:38.022530Z"
    }
   },
   "source": [
    "# 3. ToM Spunt"
   ]
  },
  {
   "cell_type": "markdown",
   "metadata": {},
   "source": [
    "* Change self paced?"
   ]
  },
  {
   "cell_type": "markdown",
   "metadata": {},
   "source": [
    "<img src=\"fractional_03ToMspunt.png\" alt=\"Drawing\" style=\"width: 500px;\"/>"
   ]
  },
  {
   "cell_type": "markdown",
   "metadata": {},
   "source": [
    "# 4. ToM Saxe"
   ]
  },
  {
   "cell_type": "markdown",
   "metadata": {},
   "source": [
    "<img src=\"fractional_04ToMsaxe.png\" alt=\"Drawing\" style=\"width: 500px;\"/>"
   ]
  }
 ],
 "metadata": {
  "anaconda-cloud": {},
  "kernelspec": {
   "display_name": "Python 3",
   "language": "python",
   "name": "python3"
  },
  "language_info": {
   "codemirror_mode": {
    "name": "ipython",
    "version": 3
   },
   "file_extension": ".py",
   "mimetype": "text/x-python",
   "name": "python",
   "nbconvert_exporter": "python",
   "pygments_lexer": "ipython3",
   "version": "3.7.3"
  },
  "toc": {
   "colors": {
    "hover_highlight": "#DAA520",
    "running_highlight": "#FF0000",
    "selected_highlight": "#FFD700"
   },
   "moveMenuLeft": true,
   "nav_menu": {
    "height": "100px",
    "width": "252px"
   },
   "navigate_menu": true,
   "number_sections": true,
   "sideBar": true,
   "threshold": 4,
   "toc_cell": false,
   "toc_section_display": "block",
   "toc_window_display": false,
   "widenNotebook": false
  }
 },
 "nbformat": 4,
 "nbformat_minor": 2
}
